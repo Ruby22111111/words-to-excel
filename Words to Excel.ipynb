{
 "cells": [
  {
   "cell_type": "code",
   "execution_count": null,
   "id": "1a06ed7c",
   "metadata": {},
   "outputs": [],
   "source": [
    "# Import necessary tables\n",
    "\n",
    "from docx import Document\n",
    "from openpyxl import load_workbook"
   ]
  },
  {
   "cell_type": "code",
   "execution_count": null,
   "id": "eece3cd8",
   "metadata": {},
   "outputs": [],
   "source": [
    "# Extract tables from Word document\n",
    "\n",
    "document = Document('C:/Users/DHA-NgocNguyen/Documents/DHA/Tasks/Word to Excel using Python/Revised OF_9 Implementation Services Requirements (1).docx')\n",
    "extracted_tables = []\n",
    "\n",
    "for table in document.tables:\n",
    "    table_data = []\n",
    "    \n",
    "    # Extract table identification from the second cell of the first row\n",
    "    table_title = table.cell(0, 1).text.replace(' Roles and Responsibilities', '')\n",
    "    \n",
    "    # Extract column names from the first row of the table\n",
    "    column_names = [cell.text for cell in table.rows[0].cells]\n",
    "    \n",
    "    # Exclude table title rows\n",
    "    data_rows = table.rows[1:]\n",
    "    \n",
    "    # Extract table data from the remaining rows\n",
    "    for row in data_rows:\n",
    "        row_data = [cell.text for cell in row.cells]\n",
    "        table_data.append(row_data)\n",
    "    \n",
    "    extracted_tables.append((table_title, column_names, table_data))"
   ]
  },
  {
   "cell_type": "code",
   "execution_count": null,
   "id": "01a0a984",
   "metadata": {},
   "outputs": [],
   "source": [
    "# Find and add tables to Excel worksheet\n",
    "\n",
    "path = \"C:/Users/DHA-NgocNguyen/Documents/DHA/Tasks/Word to Excel using Python/Implementation Services.xlsx\"\n",
    "workbook = load_workbook(filename=path)\n",
    "worksheet = workbook.get_sheet_by_name(\"Implementation Services\")\n",
    "\n",
    "start_row = worksheet.max_row + 1\n",
    "start_column = 1\n",
    "\n",
    "for table_title, column_names, table_data in extracted_tables:\n",
    "    # Add Phase column at the beginning of each table\n",
    "    worksheet.cell(row=start_row, column=start_column, value=\"Phase\")\n",
    "    \n",
    "    start_row += 1\n",
    "    \n",
    "    # Adding table identification in the Phase column\n",
    "    worksheet.cell(row=start_row, column=start_column, value=table_title)\n",
    "    \n",
    "    start_row += 1\n",
    "    \n",
    "    # Adding column names\n",
    "    for col_index, column_name in enumerate(column_names, start=start_column+1):\n",
    "        worksheet.cell(row=start_row, column=col_index, value=column_name)\n",
    "\n",
    "    start_row += 1\n",
    "\n",
    "    # Adding table data\n",
    "    for row_data in table_data:\n",
    "        for col_index, cell_data in enumerate(row_data, start=start_column+1):\n",
    "            worksheet.cell(row=start_row, column=col_index, value=cell_data)\n",
    "        start_row += 1"
   ]
  },
  {
   "cell_type": "code",
   "execution_count": null,
   "id": "aaf98238",
   "metadata": {},
   "outputs": [],
   "source": [
    "# Save and close the Excel workbook\n",
    "\n",
    "workbook.save(filename=path)\n",
    "workbook.close()"
   ]
  }
 ],
 "metadata": {
  "kernelspec": {
   "display_name": "Python 3 (ipykernel)",
   "language": "python",
   "name": "python3"
  },
  "language_info": {
   "codemirror_mode": {
    "name": "ipython",
    "version": 3
   },
   "file_extension": ".py",
   "mimetype": "text/x-python",
   "name": "python",
   "nbconvert_exporter": "python",
   "pygments_lexer": "ipython3",
   "version": "3.10.9"
  }
 },
 "nbformat": 4,
 "nbformat_minor": 5
}
